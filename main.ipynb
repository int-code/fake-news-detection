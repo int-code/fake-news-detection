{
 "cells": [
  {
   "cell_type": "code",
   "execution_count": 1,
   "metadata": {},
   "outputs": [],
   "source": [
    "import pandas as pd\n",
    "import pickle\n",
    "from setup import stem"
   ]
  },
  {
   "attachments": {},
   "cell_type": "markdown",
   "metadata": {},
   "source": [
    "##Input the title and text of the news article\n"
   ]
  },
  {
   "cell_type": "code",
   "execution_count": 2,
   "metadata": {},
   "outputs": [],
   "source": [
    "TITLE = ''\n",
    "TEXT = ''"
   ]
  },
  {
   "attachments": {},
   "cell_type": "markdown",
   "metadata": {},
   "source": [
    "##Run to setup the prediction"
   ]
  },
  {
   "cell_type": "code",
   "execution_count": 3,
   "metadata": {},
   "outputs": [
    {
     "name": "stdout",
     "output_type": "stream",
     "text": [
      "Sucessful\n"
     ]
    }
   ],
   "source": [
    "# Loading from storage\n",
    "titlevectorizer = pickle.load(open(\"pickles/titlevectorizer.pickle\", \"rb\"))\n",
    "vectorizer = pickle.load(open(\"pickles/vectorizer.pickle\", \"rb\"))\n",
    "model = pickle.load(open(\"pickles/model.pickle\", \"rb\"))\n",
    "\n",
    "# For passing input data through model\n",
    "def check(news:dict):\n",
    "\n",
    "    # Stemming text\n",
    "    title = stem(news['title'])\n",
    "    text = stem(news['text'])\n",
    "\n",
    "    # Vectorizing\n",
    "    title = titlevectorizer.transform([news['title']])\n",
    "    title = pd.DataFrame.sparse.from_spmatrix(title)\n",
    "\n",
    "    text = vectorizer.transform([news['text']])\n",
    "    text = pd.DataFrame.sparse.from_spmatrix(text)\n",
    "\n",
    "    # Merging\n",
    "    text.columns = [x for x in range(50,100)]\n",
    "    title = pd.merge(title, text, left_index=True, right_index=True)\n",
    "\n",
    "    res = model.predict(title)\n",
    "    if res==0:\n",
    "        return \"NEWS IS LIKELY TRUE\"\n",
    "    else:\n",
    "        return \"NEWS IS LIKELY FAKE\"\n",
    "\n",
    "print(\"Sucessful\")"
   ]
  },
  {
   "attachments": {},
   "cell_type": "markdown",
   "metadata": {},
   "source": [
    "##Run this to get prediction"
   ]
  },
  {
   "cell_type": "code",
   "execution_count": 4,
   "metadata": {},
   "outputs": [
    {
     "name": "stdout",
     "output_type": "stream",
     "text": [
      "NEWS IS LIKELY FAKE\n"
     ]
    }
   ],
   "source": [
    "print(check({\n",
    "    'title':TITLE,\n",
    "    'text':TEXT\n",
    "}))"
   ]
  }
 ],
 "metadata": {
  "kernelspec": {
   "display_name": "venv",
   "language": "python",
   "name": "python3"
  },
  "language_info": {
   "codemirror_mode": {
    "name": "ipython",
    "version": 3
   },
   "file_extension": ".py",
   "mimetype": "text/x-python",
   "name": "python",
   "nbconvert_exporter": "python",
   "pygments_lexer": "ipython3",
   "version": "3.9.4"
  },
  "orig_nbformat": 4,
  "vscode": {
   "interpreter": {
    "hash": "6716fb37269e6fa51d6dca88eeccafc9f0c915b9f9a1f97e900d51e5aa71bac4"
   }
  }
 },
 "nbformat": 4,
 "nbformat_minor": 2
}
